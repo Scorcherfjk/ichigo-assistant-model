{
 "cells": [
  {
   "cell_type": "code",
   "execution_count": 72,
   "id": "27f54c3c-b970-4cf8-af66-e80f1e344aa1",
   "metadata": {},
   "outputs": [
    {
     "name": "stderr",
     "output_type": "stream",
     "text": [
      "[nltk_data] Downloading package punkt to /Users/javier/nltk_data...\n",
      "[nltk_data]   Package punkt is already up-to-date!\n"
     ]
    }
   ],
   "source": [
    "import nltk\n",
    "nltk.download('punkt')\n",
    "from nltk.tokenize import word_tokenize\n",
    "from nltk.corpus import stopwords\n",
    "import pandas as pd\n",
    "import re\n",
    "stopwd = stopwords.words('spanish')"
   ]
  },
  {
   "cell_type": "code",
   "execution_count": null,
   "id": "aa1ff088-33ff-412d-98d4-e5005367c650",
   "metadata": {},
   "outputs": [],
   "source": []
  },
  {
   "cell_type": "code",
   "execution_count": 12,
   "id": "79da1e57-5c42-4fc8-aeef-599629370f99",
   "metadata": {},
   "outputs": [],
   "source": [
    "df = pd.read_csv('./PruebasGlobales.csv', sep=',')\n",
    "df.head()"
   ]
  },
  {
   "cell_type": "code",
   "execution_count": 69,
   "id": "73fe98a4-0e99-4aa9-8037-54ebcc276958",
   "metadata": {},
   "outputs": [],
   "source": [
    "all_tokens = [ w for s in df['pregunta'] for w in word_tokenize(s) if w not in stopwd and re.match('\\w', w) ]\n",
    "bigrams = nltk.bigrams(all_tokens)"
   ]
  },
  {
   "cell_type": "code",
   "execution_count": 70,
   "id": "22d9d73e-2936-4839-81f2-aa39e37ae546",
   "metadata": {},
   "outputs": [
    {
     "data": {
      "text/plain": [
       "[('sexo', 243),\n",
       " ('Que', 241),\n",
       " ('puede', 220),\n",
       " ('puedo', 207),\n",
       " ('si', 207),\n",
       " ('tener', 198),\n",
       " ('Como', 190),\n",
       " ('saber', 136),\n",
       " ('embarazada', 126),\n",
       " ('relaciones', 125),\n",
       " ('Es', 117),\n",
       " ('pareja', 113),\n",
       " ('El', 110),\n",
       " ('embarazo', 102),\n",
       " ('sexual', 98),\n",
       " ('mujer', 92),\n",
       " ('hacer', 84),\n",
       " ('Si', 84),\n",
       " ('anal', 83),\n",
       " ('Qué', 81),\n",
       " ('sexuales', 80),\n",
       " ('pene', 79),\n",
       " ('Cómo', 79),\n",
       " ('usar', 77),\n",
       " ('condon', 74),\n",
       " ('condón', 74),\n",
       " ('A', 65),\n",
       " ('quedar', 65),\n",
       " ('La', 63),\n",
       " ('oral', 63),\n",
       " ('normal', 61),\n",
       " ('tiempo', 60),\n",
       " ('método', 59),\n",
       " ('seguro', 52),\n",
       " ('primera', 51),\n",
       " ('edad', 49),\n",
       " ('metodo', 48),\n",
       " ('bueno', 47),\n",
       " ('debo', 46),\n",
       " ('vez', 46),\n",
       " ('pastilla', 46),\n",
       " ('debe', 45),\n",
       " ('t', 45),\n",
       " ('semen', 44),\n",
       " ('Por', 43),\n",
       " ('its', 43),\n",
       " ('emergencia', 43),\n",
       " ('q', 42),\n",
       " ('días', 42),\n",
       " ('Se', 40)]"
      ]
     },
     "execution_count": 70,
     "metadata": {},
     "output_type": "execute_result"
    }
   ],
   "source": [
    "freq_dist = nltk.collocations.FreqDist(all_tokens)\n",
    "most_common_words = freq_dist.most_common(50)\n",
    "list(most_common_words)"
   ]
  },
  {
   "cell_type": "code",
   "execution_count": 71,
   "id": "59f6c041-506d-41a4-9361-9248568020dd",
   "metadata": {},
   "outputs": [
    {
     "data": {
      "text/plain": [
       "[(('sexo', 'anal'), 81),\n",
       " (('saber', 'si'), 71),\n",
       " (('tener', 'relaciones'), 67),\n",
       " (('relaciones', 'sexuales'), 66),\n",
       " (('sexo', 'oral'), 61),\n",
       " (('quedar', 'embarazada'), 56),\n",
       " (('tener', 'sexo'), 49),\n",
       " (('Como', 'puedo'), 36),\n",
       " (('primera', 'vez'), 36),\n",
       " (('Se', 'puede'), 33),\n",
       " (('t', 'cobre'), 28),\n",
       " (('Es', 'normal'), 25),\n",
       " (('puede', 'tener'), 25),\n",
       " (('Quisiera', 'saber'), 24),\n",
       " (('puedo', 'hacer'), 23),\n",
       " (('El', 'sexo'), 23),\n",
       " (('puedo', 'saber'), 22),\n",
       " (('pasa', 'si'), 22),\n",
       " (('puedo', 'tener'), 22),\n",
       " (('Cómo', 'puedo'), 21),\n",
       " (('A', 'edad'), 21),\n",
       " (('metodo', 'ritmo'), 20),\n",
       " (('acto', 'sexual'), 18),\n",
       " (('Mi', 'pareja'), 17),\n",
       " (('hacer', 'sexo'), 17),\n",
       " (('puede', 'quedar'), 16),\n",
       " (('relación', 'sexual'), 16),\n",
       " (('Cuantas', 'veces'), 16),\n",
       " (('método', 'ritmo'), 16),\n",
       " (('puedo', 'usar'), 16),\n",
       " (('puede', 'ser'), 15),\n",
       " (('salir', 'embarazada'), 15),\n",
       " (('Es', 'bueno'), 15),\n",
       " (('punto', 'g'), 14),\n",
       " (('Es', 'malo'), 14),\n",
       " (('puedo', 'quedar'), 14),\n",
       " (('método', 'anticonceptivo'), 14),\n",
       " (('pastilla', 'día'), 14),\n",
       " (('día', 'siguiente'), 14),\n",
       " (('condón', 'femenino'), 14),\n",
       " (('Que', 'pasa'), 13),\n",
       " (('pastillas', 'anticonceptivas'), 13),\n",
       " (('quisiera', 'saber'), 13),\n",
       " (('eyaculación', 'precoz'), 13),\n",
       " (('si', 'pareja'), 12),\n",
       " (('Como', 'puede'), 12),\n",
       " (('si', 'embarazada'), 12),\n",
       " (('Como', 'saber'), 11),\n",
       " (('Cuanto', 'tiempo'), 11),\n",
       " (('Que', 'tan'), 11)]"
      ]
     },
     "execution_count": 71,
     "metadata": {},
     "output_type": "execute_result"
    }
   ],
   "source": [
    "bi_freq_dist = nltk.collocations.FreqDist(bigrams)\n",
    "most_common_bigrams = bi_freq_dist.most_common(50)\n",
    "list(most_common_bigrams)"
   ]
  },
  {
   "cell_type": "code",
   "execution_count": null,
   "id": "aeae74c2-9723-4303-818a-e4d5567c2a86",
   "metadata": {},
   "outputs": [],
   "source": []
  }
 ],
 "metadata": {
  "kernelspec": {
   "display_name": "Python 3 (ipykernel)",
   "language": "python",
   "name": "python3"
  },
  "language_info": {
   "codemirror_mode": {
    "name": "ipython",
    "version": 3
   },
   "file_extension": ".py",
   "mimetype": "text/x-python",
   "name": "python",
   "nbconvert_exporter": "python",
   "pygments_lexer": "ipython3",
   "version": "3.9.7"
  }
 },
 "nbformat": 4,
 "nbformat_minor": 5
}
