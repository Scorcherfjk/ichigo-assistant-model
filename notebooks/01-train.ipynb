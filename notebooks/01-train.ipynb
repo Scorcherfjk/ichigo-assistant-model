{
 "cells": [
  {
   "cell_type": "code",
   "execution_count": 1,
   "id": "27f54c3c-b970-4cf8-af66-e80f1e344aa1",
   "metadata": {},
   "outputs": [
    {
     "name": "stderr",
     "output_type": "stream",
     "text": [
      "[nltk_data] Error loading punkt: <urlopen error [Errno 8] nodename nor\n",
      "[nltk_data]     servname provided, or not known>\n"
     ]
    }
   ],
   "source": [
    "# Utilities\n",
    "import os\n",
    "import re\n",
    "import pickle\n",
    "\n",
    "# NLP\n",
    "import nltk\n",
    "nltk.download('punkt')\n",
    "from nltk.tokenize import word_tokenize\n",
    "from nltk.corpus import stopwords\n",
    "stopwd = stopwords.words('spanish')\n",
    "\n",
    "# Data\n",
    "import pandas as pd\n",
    "import numpy as np\n",
    "\n",
    "# Machine Learning\n",
    "from sklearn.model_selection import train_test_split\n",
    "from sklearn.naive_bayes import GaussianNB\n",
    "\n",
    "# Metrics\n",
    "from sklearn.metrics import classification_report\n",
    "from sklearn.metrics import confusion_matrix\n",
    "\n",
    "# Graphs\n",
    "import seaborn as sns"
   ]
  },
  {
   "cell_type": "code",
   "execution_count": 2,
   "id": "79da1e57-5c42-4fc8-aeef-599629370f99",
   "metadata": {},
   "outputs": [
    {
     "data": {
      "text/html": [
       "<div>\n",
       "<style scoped>\n",
       "    .dataframe tbody tr th:only-of-type {\n",
       "        vertical-align: middle;\n",
       "    }\n",
       "\n",
       "    .dataframe tbody tr th {\n",
       "        vertical-align: top;\n",
       "    }\n",
       "\n",
       "    .dataframe thead th {\n",
       "        text-align: right;\n",
       "    }\n",
       "</style>\n",
       "<table border=\"1\" class=\"dataframe\">\n",
       "  <thead>\n",
       "    <tr style=\"text-align: right;\">\n",
       "      <th></th>\n",
       "      <th>question</th>\n",
       "      <th>intent</th>\n",
       "    </tr>\n",
       "  </thead>\n",
       "  <tbody>\n",
       "    <tr>\n",
       "      <th>count</th>\n",
       "      <td>300</td>\n",
       "      <td>300</td>\n",
       "    </tr>\n",
       "    <tr>\n",
       "      <th>unique</th>\n",
       "      <td>86</td>\n",
       "      <td>9</td>\n",
       "    </tr>\n",
       "    <tr>\n",
       "      <th>top</th>\n",
       "      <td>cual es su vision</td>\n",
       "      <td>ubicacion</td>\n",
       "    </tr>\n",
       "    <tr>\n",
       "      <th>freq</th>\n",
       "      <td>4</td>\n",
       "      <td>39</td>\n",
       "    </tr>\n",
       "  </tbody>\n",
       "</table>\n",
       "</div>"
      ],
      "text/plain": [
       "                 question     intent\n",
       "count                 300        300\n",
       "unique                 86          9\n",
       "top     cual es su vision  ubicacion\n",
       "freq                    4         39"
      ]
     },
     "execution_count": 2,
     "metadata": {},
     "output_type": "execute_result"
    }
   ],
   "source": [
    "base_path = '../data/intents'\n",
    "\n",
    "files = os.listdir('../data/intents')\n",
    "df_list = []\n",
    "for file in files:\n",
    "  df_temp = pd.read_csv(f'{base_path}/{file}', header=0, names=['question'])\n",
    "  df_temp['intent'] = file.split('.')[0]\n",
    "  df_list.append(df_temp)\n",
    "\n",
    "df = pd.concat(df_list)\n",
    "df.reset_index(inplace=True)\n",
    "df.drop(columns=['index'], inplace=True)\n",
    "df.describe(include=\"all\")"
   ]
  },
  {
   "cell_type": "code",
   "execution_count": 3,
   "id": "21ce198d",
   "metadata": {},
   "outputs": [],
   "source": [
    "all_tokens = [ w for s in df['question'] for w in word_tokenize(s) if w not in stopwd and re.match('\\w', w) ]\n",
    "\n",
    "# Tokens\n",
    "freq_dist_tokens = nltk.collocations.FreqDist(all_tokens)\n",
    "\n",
    "# Bigrams\n",
    "bigrams = nltk.bigrams(all_tokens)\n",
    "freq_dist_bigrams = nltk.collocations.FreqDist(bigrams)\n"
   ]
  },
  {
   "cell_type": "code",
   "execution_count": 4,
   "id": "90f27762",
   "metadata": {},
   "outputs": [],
   "source": [
    "[ w for s in df['question'] for w in word_tokenize(s) if w not in stopwd and re.match('\\w', w) ]\n",
    "\n",
    "# Tokens\n",
    "freq_dist_tokens = nltk.collocations.FreqDist(all_tokens)\n",
    "\n",
    "# Bigrams\n",
    "bigrams = nltk.bigrams(all_tokens)\n",
    "freq_dist_bigrams = nltk.collocations.FreqDist(bigrams)\n"
   ]
  },
  {
   "cell_type": "code",
   "execution_count": 5,
   "id": "22d9d73e-2936-4839-81f2-aa39e37ae546",
   "metadata": {},
   "outputs": [],
   "source": [
    "most_common_tokens = freq_dist_tokens.most_common(20)\n",
    "list_tokens = [w[0] for w in list(most_common_tokens)]\n",
    "for i in list_tokens:\n",
    "  df[i] = 0"
   ]
  },
  {
   "cell_type": "code",
   "execution_count": 6,
   "id": "73fe98a4-0e99-4aa9-8037-54ebcc276958",
   "metadata": {},
   "outputs": [],
   "source": [
    "most_common_bigrams = freq_dist_bigrams.most_common(20)\n",
    "list_bigrams = [w[0] for w in list(most_common_bigrams)]\n",
    "for i in list_bigrams:\n",
    "  df[i] = 0"
   ]
  },
  {
   "cell_type": "code",
   "execution_count": 7,
   "id": "1c6319f4",
   "metadata": {},
   "outputs": [],
   "source": [
    "def transform(arr, col) -> list:\n",
    "  tokens = [ w for w in word_tokenize(arr[0]) if w not in stopwd and re.match('\\w', w) ]\n",
    "  bigrams = list(nltk.bigrams(tokens))\n",
    "\n",
    "  for idx, ele in enumerate(col):\n",
    "    if ele in tokens: \n",
    "      arr[idx] = 1\n",
    "    elif len(bigrams):\n",
    "      for b in bigrams:\n",
    "        if ele[0] == b[0] and ele[1] == b[1]:\n",
    "          arr[idx] = 1\n",
    "\n",
    "  return arr"
   ]
  },
  {
   "cell_type": "code",
   "execution_count": 8,
   "id": "ba5461b3",
   "metadata": {},
   "outputs": [],
   "source": [
    "col = df.columns\n",
    "str_col = [str(c) for c in col]\n",
    "matrix = []\n",
    "for i in df.index:\n",
    "  arr = transform(df.iloc[i].array, col)\n",
    "  matrix.append(arr)\n",
    "\n",
    "df_train = pd.DataFrame(matrix, columns=str_col)"
   ]
  },
  {
   "cell_type": "code",
   "execution_count": 9,
   "id": "e8688ebf",
   "metadata": {},
   "outputs": [],
   "source": [
    "X = df_train[str_col]\n",
    "X.drop(columns=['question', 'intent'], inplace=True)\n",
    "\n",
    "y = df_train['intent']\n",
    "\n",
    "X_train, X_test, y_train, y_test = train_test_split(X, y, test_size=0.3, random_state=0)"
   ]
  },
  {
   "cell_type": "code",
   "execution_count": 10,
   "id": "c81a2446",
   "metadata": {},
   "outputs": [
    {
     "name": "stdout",
     "output_type": "stream",
     "text": [
      "Accuracy of GBN classifier on training set: 0.64%\n",
      "Accuracy of GBN classifier on test set: 0.61%\n"
     ]
    }
   ],
   "source": [
    "gnb = GaussianNB()\n",
    "gnb = gnb.fit(X, y) # PROD\n",
    "# gnb = gnb.fit(X_train, y_train) # DEV\n",
    "y_pred = gnb.predict(X_test)\n",
    "\n",
    "print('Accuracy of GBN classifier on training set: {:.2f}%'\n",
    "     .format(gnb.score(X_train, y_train)))\n",
    "print('Accuracy of GBN classifier on test set: {:.2f}%'\n",
    "     .format(gnb.score(X_test, y_test)))"
   ]
  },
  {
   "cell_type": "code",
   "execution_count": 11,
   "id": "2edf4c26",
   "metadata": {},
   "outputs": [
    {
     "data": {
      "text/plain": [
       "<AxesSubplot:>"
      ]
     },
     "execution_count": 11,
     "metadata": {},
     "output_type": "execute_result"
    },
    {
     "data": {
      "image/png": "[encoded data removed]",
      "text/plain": [
       "<Figure size 432x288 with 2 Axes>"
      ]
     },
     "metadata": {
      "needs_background": "light"
     },
     "output_type": "display_data"
    }
   ],
   "source": [
    "matrix_data = confusion_matrix(y_test, y_pred)\n",
    "matrix_graph = pd.DataFrame(matrix_data,\n",
    "  index=df['intent'].unique(),\n",
    "  columns=df['intent'].unique()\n",
    ")\n",
    "sns.heatmap(matrix_graph, annot=True, fmt=\".0f\" )"
   ]
  },
  {
   "cell_type": "code",
   "execution_count": 12,
   "id": "a33789f4",
   "metadata": {},
   "outputs": [
    {
     "name": "stdout",
     "output_type": "stream",
     "text": [
      "               precision    recall  f1-score   support\n",
      "\n",
      "     contacto       0.67      0.25      0.36         8\n",
      "      cultura       1.00      0.67      0.80         9\n",
      "    despedida       0.25      1.00      0.40        11\n",
      "     entregas       1.00      0.78      0.88         9\n",
      "        pagos       1.00      1.00      1.00         9\n",
      "reclutamiento       1.00      0.83      0.91         6\n",
      "       saludo       1.00      0.33      0.50        12\n",
      "    servicios       0.86      0.43      0.57        14\n",
      "    ubicacion       1.00      0.42      0.59        12\n",
      "\n",
      "     accuracy                           0.61        90\n",
      "    macro avg       0.86      0.63      0.67        90\n",
      " weighted avg       0.86      0.61      0.64        90\n",
      "\n"
     ]
    }
   ],
   "source": [
    "print(classification_report(y_test, y_pred, zero_division=0))"
   ]
  },
  {
   "cell_type": "code",
   "execution_count": 14,
   "id": "ee860850",
   "metadata": {},
   "outputs": [],
   "source": [
    "pickle.dump({\n",
    "  \"model\": gnb,\n",
    "  \"columns\": col \n",
    "}, open('../model/IchigoModel.v1.pckl','wb'))"
   ]
  }
 ],
 "metadata": {
  "kernelspec": {
   "display_name": "Python 3 (ipykernel)",
   "language": "python",
   "name": "python3"
  },
  "language_info": {
   "codemirror_mode": {
    "name": "ipython",
    "version": 3
   },
   "file_extension": ".py",
   "mimetype": "text/x-python",
   "name": "python",
   "nbconvert_exporter": "python",
   "pygments_lexer": "ipython3",
   "version": "3.9.7"
  }
 },
 "nbformat": 4,
 "nbformat_minor": 5
}
