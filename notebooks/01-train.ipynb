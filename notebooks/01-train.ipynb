{
 "cells": [
  {
   "cell_type": "markdown",
   "id": "7880948d",
   "metadata": {},
   "source": [
    "# Ichigo - Machine Learning Model"
   ]
  },
  {
   "cell_type": "code",
   "execution_count": 26,
   "id": "27f54c3c-b970-4cf8-af66-e80f1e344aa1",
   "metadata": {},
   "outputs": [
    {
     "name": "stderr",
     "output_type": "stream",
     "text": [
      "[nltk_data] Downloading package punkt to /Users/javier/nltk_data...\n",
      "[nltk_data]   Package punkt is already up-to-date!\n"
     ]
    }
   ],
   "source": [
    "# Utilities\n",
    "import os\n",
    "import re\n",
    "import pickle\n",
    "\n",
    "# NLP\n",
    "import nltk\n",
    "nltk.download('punkt')\n",
    "from nltk.tokenize import word_tokenize\n",
    "from nltk.corpus import stopwords\n",
    "stopwd = stopwords.words('spanish')\n",
    "\n",
    "# Data\n",
    "import pandas as pd\n",
    "import numpy as np\n",
    "\n",
    "# Machine Learning\n",
    "from sklearn.model_selection import train_test_split\n",
    "\n",
    "# Metrics\n",
    "from sklearn.metrics import classification_report\n",
    "from sklearn.metrics import confusion_matrix\n",
    "\n",
    "# Graphs\n",
    "import seaborn as sns"
   ]
  },
  {
   "cell_type": "markdown",
   "id": "92c6d2a1",
   "metadata": {},
   "source": [
    "## Extract/Transform Data"
   ]
  },
  {
   "cell_type": "code",
   "execution_count": 27,
   "id": "79da1e57-5c42-4fc8-aeef-599629370f99",
   "metadata": {},
   "outputs": [
    {
     "data": {
      "text/html": [
       "<div>\n",
       "<style scoped>\n",
       "    .dataframe tbody tr th:only-of-type {\n",
       "        vertical-align: middle;\n",
       "    }\n",
       "\n",
       "    .dataframe tbody tr th {\n",
       "        vertical-align: top;\n",
       "    }\n",
       "\n",
       "    .dataframe thead th {\n",
       "        text-align: right;\n",
       "    }\n",
       "</style>\n",
       "<table border=\"1\" class=\"dataframe\">\n",
       "  <thead>\n",
       "    <tr style=\"text-align: right;\">\n",
       "      <th></th>\n",
       "      <th>question</th>\n",
       "      <th>intent</th>\n",
       "    </tr>\n",
       "  </thead>\n",
       "  <tbody>\n",
       "    <tr>\n",
       "      <th>count</th>\n",
       "      <td>300</td>\n",
       "      <td>300</td>\n",
       "    </tr>\n",
       "    <tr>\n",
       "      <th>unique</th>\n",
       "      <td>86</td>\n",
       "      <td>9</td>\n",
       "    </tr>\n",
       "    <tr>\n",
       "      <th>top</th>\n",
       "      <td>cual es su vision</td>\n",
       "      <td>ubicacion</td>\n",
       "    </tr>\n",
       "    <tr>\n",
       "      <th>freq</th>\n",
       "      <td>4</td>\n",
       "      <td>39</td>\n",
       "    </tr>\n",
       "  </tbody>\n",
       "</table>\n",
       "</div>"
      ],
      "text/plain": [
       "                 question     intent\n",
       "count                 300        300\n",
       "unique                 86          9\n",
       "top     cual es su vision  ubicacion\n",
       "freq                    4         39"
      ]
     },
     "execution_count": 27,
     "metadata": {},
     "output_type": "execute_result"
    }
   ],
   "source": [
    "base_path = '../data/intents'\n",
    "\n",
    "files = os.listdir('../data/intents')\n",
    "df_list = []\n",
    "for file in files:\n",
    "  df_temp = pd.read_csv(f'{base_path}/{file}', header=0, names=['question'])\n",
    "  df_temp['intent'] = file.split('.')[0]\n",
    "  df_list.append(df_temp)\n",
    "\n",
    "df = pd.concat(df_list)\n",
    "df.reset_index(inplace=True)\n",
    "df.drop(columns=['index'], inplace=True)\n",
    "df.describe(include=\"all\")"
   ]
  },
  {
   "cell_type": "code",
   "execution_count": 28,
   "id": "21ce198d",
   "metadata": {},
   "outputs": [],
   "source": [
    "all_tokens = [ w for s in df['question'] for w in word_tokenize(s) if w not in stopwd and re.match('\\w', w) ]\n",
    "\n",
    "# Tokens\n",
    "freq_dist_tokens = nltk.collocations.FreqDist(all_tokens)\n",
    "\n",
    "# Bigrams\n",
    "bigrams = nltk.bigrams(all_tokens)\n",
    "freq_dist_bigrams = nltk.collocations.FreqDist(bigrams)\n"
   ]
  },
  {
   "cell_type": "code",
   "execution_count": 29,
   "id": "90f27762",
   "metadata": {},
   "outputs": [],
   "source": [
    "[ w for s in df['question'] for w in word_tokenize(s) if w not in stopwd and re.match('\\w', w) ]\n",
    "\n",
    "# Tokens\n",
    "freq_dist_tokens = nltk.collocations.FreqDist(all_tokens)\n",
    "\n",
    "# Bigrams\n",
    "bigrams = nltk.bigrams(all_tokens)\n",
    "freq_dist_bigrams = nltk.collocations.FreqDist(bigrams)\n"
   ]
  },
  {
   "cell_type": "code",
   "execution_count": 30,
   "id": "22d9d73e-2936-4839-81f2-aa39e37ae546",
   "metadata": {},
   "outputs": [],
   "source": [
    "most_common_tokens = freq_dist_tokens.most_common(20)\n",
    "list_tokens = [w[0] for w in list(most_common_tokens)]\n",
    "for i in list_tokens:\n",
    "  df[i] = 0"
   ]
  },
  {
   "cell_type": "code",
   "execution_count": 31,
   "id": "73fe98a4-0e99-4aa9-8037-54ebcc276958",
   "metadata": {},
   "outputs": [],
   "source": [
    "most_common_bigrams = freq_dist_bigrams.most_common(20)\n",
    "list_bigrams = [w[0] for w in list(most_common_bigrams)]\n",
    "for i in list_bigrams:\n",
    "  df[i] = 0"
   ]
  },
  {
   "cell_type": "code",
   "execution_count": 32,
   "id": "1c6319f4",
   "metadata": {},
   "outputs": [],
   "source": [
    "def transform(arr, col) -> list:\n",
    "  tokens = [ w for w in word_tokenize(arr[0]) if w not in stopwd and re.match('\\w', w) ]\n",
    "  bigrams = list(nltk.bigrams(tokens))\n",
    "\n",
    "  for idx, ele in enumerate(col):\n",
    "    if ele in tokens: \n",
    "      arr[idx] = 1\n",
    "    elif len(bigrams):\n",
    "      for b in bigrams:\n",
    "        if ele[0] == b[0] and ele[1] == b[1]:\n",
    "          arr[idx] = 1\n",
    "\n",
    "  return arr"
   ]
  },
  {
   "cell_type": "markdown",
   "id": "04488b9d",
   "metadata": {},
   "source": [
    "## Train/Test Split "
   ]
  },
  {
   "cell_type": "code",
   "execution_count": 33,
   "id": "ba5461b3",
   "metadata": {},
   "outputs": [],
   "source": [
    "col = df.columns\n",
    "str_col = [str(c) for c in col]\n",
    "matrix = []\n",
    "for i in df.index:\n",
    "  arr = transform(df.iloc[i].array, col)\n",
    "  matrix.append(arr)\n",
    "\n",
    "df_train = pd.DataFrame(matrix, columns=str_col)"
   ]
  },
  {
   "cell_type": "code",
   "execution_count": 34,
   "id": "e8688ebf",
   "metadata": {},
   "outputs": [],
   "source": [
    "X = df_train[str_col]\n",
    "X.drop(columns=['question', 'intent'], inplace=True)\n",
    "\n",
    "y = df_train['intent']\n",
    "\n",
    "X_train, X_test, y_train, y_test = train_test_split(X, y, test_size=0.3, random_state=0)"
   ]
  },
  {
   "cell_type": "markdown",
   "id": "205a1ccc",
   "metadata": {},
   "source": [
    "## Gaussian Naive Bayes"
   ]
  },
  {
   "cell_type": "code",
   "execution_count": 48,
   "id": "c81a2446",
   "metadata": {},
   "outputs": [
    {
     "name": "stdout",
     "output_type": "stream",
     "text": [
      "Accuracy of GBN classifier on training set: 0.67%\n",
      "Accuracy of GBN classifier on test set: 0.67%\n"
     ]
    }
   ],
   "source": [
    "from sklearn.naive_bayes import GaussianNB\n",
    "gnb = GaussianNB().fit(X, y) # PROD\n",
    "# gnb = gnb.fit(X_train, y_train) # DEV\n",
    "y_pred = gnb.predict(X_test)\n",
    "\n",
    "gnb_score = {\n",
    "     \"model\": \"gnb\",\n",
    "     \"train\": gnb.score(X_train, y_train),\n",
    "     \"test\": gnb.score(X_test, y_test)\n",
    "}\n",
    "\n",
    "print('Accuracy of GBN classifier on training set: {:.2f}%'\n",
    "     .format(gnb_score['train']))\n",
    "print('Accuracy of GBN classifier on test set: {:.2f}%'\n",
    "     .format(gnb_score['test']))"
   ]
  },
  {
   "cell_type": "code",
   "execution_count": 36,
   "id": "2edf4c26",
   "metadata": {},
   "outputs": [
    {
     "data": {
      "text/plain": [
       "<AxesSubplot:>"
      ]
     },
     "execution_count": 36,
     "metadata": {},
     "output_type": "execute_result"
    },
    {
     "data": {
      "image/png": "[encoded data removed]",
      "text/plain": [
       "<Figure size 432x288 with 2 Axes>"
      ]
     },
     "metadata": {
      "needs_background": "light"
     },
     "output_type": "display_data"
    }
   ],
   "source": [
    "matrix_data = confusion_matrix(y_test, y_pred)\n",
    "matrix_graph = pd.DataFrame(matrix_data,\n",
    "  index=df['intent'].unique(),\n",
    "  columns=df['intent'].unique()\n",
    ")\n",
    "sns.heatmap(matrix_graph, annot=True, fmt=\".0f\" )"
   ]
  },
  {
   "cell_type": "code",
   "execution_count": 37,
   "id": "a33789f4",
   "metadata": {},
   "outputs": [
    {
     "name": "stdout",
     "output_type": "stream",
     "text": [
      "               precision    recall  f1-score   support\n",
      "\n",
      "     contacto       0.67      0.25      0.36         8\n",
      "      cultura       1.00      0.67      0.80         9\n",
      "    despedida       0.28      1.00      0.44        11\n",
      "     entregas       1.00      0.78      0.88         9\n",
      "        pagos       1.00      1.00      1.00         9\n",
      "reclutamiento       1.00      0.83      0.91         6\n",
      "       saludo       1.00      0.33      0.50        12\n",
      "    servicios       0.92      0.79      0.85        14\n",
      "    ubicacion       1.00      0.42      0.59        12\n",
      "\n",
      "     accuracy                           0.67        90\n",
      "    macro avg       0.87      0.67      0.70        90\n",
      " weighted avg       0.87      0.67      0.69        90\n",
      "\n"
     ]
    }
   ],
   "source": [
    "print(classification_report(y_test, y_pred, zero_division=0))"
   ]
  },
  {
   "cell_type": "markdown",
   "id": "d08f6c87",
   "metadata": {},
   "source": [
    "## Logistic Regresion"
   ]
  },
  {
   "cell_type": "code",
   "execution_count": 50,
   "id": "13dce27e",
   "metadata": {},
   "outputs": [
    {
     "name": "stdout",
     "output_type": "stream",
     "text": [
      "Accuracy of LRC classifier on training set: 0.71%\n",
      "Accuracy of LRC classifier on test set: 0.68%\n"
     ]
    }
   ],
   "source": [
    "from sklearn.linear_model import LogisticRegression\n",
    "lrc = LogisticRegression(random_state=0).fit(X, y)\n",
    "\n",
    "y_pred_2 = lrc.predict(X_test)\n",
    "\n",
    "lrc_score = {\n",
    "     \"model\": \"lrc\",\n",
    "     \"train\": lrc.score(X_train, y_train),\n",
    "     \"test\": lrc.score(X_test, y_test)\n",
    "}\n",
    "\n",
    "print('Accuracy of LRC classifier on training set: {:.2f}%'\n",
    "     .format(lrc_score['train']))\n",
    "print('Accuracy of LRC classifier on test set: {:.2f}%'\n",
    "     .format(lrc_score['test']))"
   ]
  },
  {
   "cell_type": "code",
   "execution_count": 39,
   "id": "438cf686",
   "metadata": {},
   "outputs": [
    {
     "data": {
      "text/plain": [
       "<AxesSubplot:>"
      ]
     },
     "execution_count": 39,
     "metadata": {},
     "output_type": "execute_result"
    },
    {
     "data": {
      "image/png": "[encoded data removed]",
      "text/plain": [
       "<Figure size 432x288 with 2 Axes>"
      ]
     },
     "metadata": {
      "needs_background": "light"
     },
     "output_type": "display_data"
    }
   ],
   "source": [
    "matrix_data = confusion_matrix(y_test, y_pred_2)\n",
    "matrix_graph = pd.DataFrame(matrix_data,\n",
    "  index=df['intent'].unique(),\n",
    "  columns=df['intent'].unique()\n",
    ")\n",
    "sns.heatmap(matrix_graph, annot=True, fmt=\".0f\" )"
   ]
  },
  {
   "cell_type": "code",
   "execution_count": 40,
   "id": "3f10e162",
   "metadata": {},
   "outputs": [
    {
     "name": "stdout",
     "output_type": "stream",
     "text": [
      "               precision    recall  f1-score   support\n",
      "\n",
      "     contacto       0.67      0.25      0.36         8\n",
      "      cultura       1.00      0.67      0.80         9\n",
      "    despedida       0.28      1.00      0.44        11\n",
      "     entregas       1.00      0.89      0.94         9\n",
      "        pagos       1.00      1.00      1.00         9\n",
      "reclutamiento       1.00      0.83      0.91         6\n",
      "       saludo       1.00      0.33      0.50        12\n",
      "    servicios       1.00      0.79      0.88        14\n",
      "    ubicacion       1.00      0.42      0.59        12\n",
      "\n",
      "     accuracy                           0.68        90\n",
      "    macro avg       0.88      0.69      0.71        90\n",
      " weighted avg       0.88      0.68      0.70        90\n",
      "\n"
     ]
    }
   ],
   "source": [
    "print(classification_report(y_test, y_pred_2, zero_division=0))"
   ]
  },
  {
   "cell_type": "markdown",
   "id": "b37eddb0",
   "metadata": {},
   "source": [
    "## Random Forest"
   ]
  },
  {
   "cell_type": "code",
   "execution_count": 51,
   "id": "6563c54f",
   "metadata": {},
   "outputs": [
    {
     "name": "stdout",
     "output_type": "stream",
     "text": [
      "Accuracy of RFC classifier on training set: 0.56%\n",
      "Accuracy of RFC classifier on test set: 0.57%\n"
     ]
    }
   ],
   "source": [
    "from sklearn.ensemble import RandomForestClassifier\n",
    "rfc = RandomForestClassifier(max_depth=2, random_state=0).fit(X, y)\n",
    "\n",
    "y_pred_3 = rfc.predict(X_test)\n",
    "\n",
    "rfc_score = {\n",
    "     \"model\": \"rfc\",\n",
    "     \"train\": rfc.score(X_train, y_train),\n",
    "     \"test\": rfc.score(X_test, y_test)\n",
    "}\n",
    "\n",
    "print('Accuracy of RFC classifier on training set: {:.2f}%'\n",
    "     .format(rfc_score['train']))\n",
    "print('Accuracy of RFC classifier on test set: {:.2f}%'\n",
    "     .format(rfc_score['test']))"
   ]
  },
  {
   "cell_type": "code",
   "execution_count": 42,
   "id": "223ce7fe",
   "metadata": {},
   "outputs": [
    {
     "data": {
      "text/plain": [
       "<AxesSubplot:>"
      ]
     },
     "execution_count": 42,
     "metadata": {},
     "output_type": "execute_result"
    },
    {
     "data": {
      "image/png": "[encoded data removed]",
      "text/plain": [
       "<Figure size 432x288 with 2 Axes>"
      ]
     },
     "metadata": {
      "needs_background": "light"
     },
     "output_type": "display_data"
    }
   ],
   "source": [
    "matrix_data = confusion_matrix(y_test, y_pred_3)\n",
    "matrix_graph = pd.DataFrame(matrix_data,\n",
    "  index=df['intent'].unique(),\n",
    "  columns=df['intent'].unique()\n",
    ")\n",
    "sns.heatmap(matrix_graph, annot=True, fmt=\".0f\" )"
   ]
  },
  {
   "cell_type": "code",
   "execution_count": 43,
   "id": "caec027c",
   "metadata": {},
   "outputs": [
    {
     "name": "stdout",
     "output_type": "stream",
     "text": [
      "               precision    recall  f1-score   support\n",
      "\n",
      "     contacto       0.00      0.00      0.00         8\n",
      "      cultura       1.00      0.67      0.80         9\n",
      "    despedida       0.00      0.00      0.00        11\n",
      "     entregas       1.00      0.78      0.88         9\n",
      "        pagos       1.00      1.00      1.00         9\n",
      "reclutamiento       1.00      0.83      0.91         6\n",
      "       saludo       0.24      1.00      0.38        12\n",
      "    servicios       1.00      0.50      0.67        14\n",
      "    ubicacion       1.00      0.42      0.59        12\n",
      "\n",
      "     accuracy                           0.57        90\n",
      "    macro avg       0.69      0.58      0.58        90\n",
      " weighted avg       0.69      0.57      0.56        90\n",
      "\n"
     ]
    }
   ],
   "source": [
    "print(classification_report(y_test, y_pred_3, zero_division=0))"
   ]
  },
  {
   "cell_type": "code",
   "execution_count": 52,
   "id": "05063ad9",
   "metadata": {},
   "outputs": [
    {
     "name": "stdout",
     "output_type": "stream",
     "text": [
      "Accuracy of PC classifier on training set: 0.64%\n",
      "Accuracy of PC classifier on test set: 0.62%\n"
     ]
    }
   ],
   "source": [
    "from sklearn.linear_model import Perceptron\n",
    "pc = Perceptron(tol=1e-3, random_state=0).fit(X, y)\n",
    "\n",
    "y_pred_4 = pc.predict(X_test)\n",
    "\n",
    "pc_score = {\n",
    "     \"model\": \"pc\",\n",
    "     \"train\": pc.score(X_train, y_train),\n",
    "     \"test\": pc.score(X_test, y_test)\n",
    "}\n",
    "\n",
    "print('Accuracy of PC classifier on training set: {:.2f}%'\n",
    "     .format(pc_score['train']))\n",
    "print('Accuracy of PC classifier on test set: {:.2f}%'\n",
    "     .format(pc_score['test']))"
   ]
  },
  {
   "cell_type": "code",
   "execution_count": 45,
   "id": "1c46da21",
   "metadata": {},
   "outputs": [
    {
     "data": {
      "text/plain": [
       "<AxesSubplot:>"
      ]
     },
     "execution_count": 45,
     "metadata": {},
     "output_type": "execute_result"
    },
    {
     "data": {
      "image/png": "[encoded data removed]",
      "text/plain": [
       "<Figure size 432x288 with 2 Axes>"
      ]
     },
     "metadata": {
      "needs_background": "light"
     },
     "output_type": "display_data"
    }
   ],
   "source": [
    "matrix_data = confusion_matrix(y_test, y_pred_4)\n",
    "matrix_graph = pd.DataFrame(matrix_data,\n",
    "  index=df['intent'].unique(),\n",
    "  columns=df['intent'].unique()\n",
    ")\n",
    "sns.heatmap(matrix_graph, annot=True, fmt=\".0f\" )"
   ]
  },
  {
   "cell_type": "code",
   "execution_count": 46,
   "id": "6d0f795e",
   "metadata": {},
   "outputs": [
    {
     "name": "stdout",
     "output_type": "stream",
     "text": [
      "               precision    recall  f1-score   support\n",
      "\n",
      "     contacto       0.19      1.00      0.32         8\n",
      "      cultura       1.00      0.67      0.80         9\n",
      "    despedida       0.00      0.00      0.00        11\n",
      "     entregas       1.00      0.89      0.94         9\n",
      "        pagos       1.00      1.00      1.00         9\n",
      "reclutamiento       1.00      0.83      0.91         6\n",
      "       saludo       1.00      0.33      0.50        12\n",
      "    servicios       1.00      0.79      0.88        14\n",
      "    ubicacion       1.00      0.42      0.59        12\n",
      "\n",
      "     accuracy                           0.62        90\n",
      "    macro avg       0.80      0.66      0.66        90\n",
      " weighted avg       0.81      0.62      0.65        90\n",
      "\n"
     ]
    }
   ],
   "source": [
    "print(classification_report(y_test, y_pred_4, zero_division=0))"
   ]
  },
  {
   "cell_type": "markdown",
   "id": "107331d1",
   "metadata": {},
   "source": [
    "## Comparative"
   ]
  },
  {
   "cell_type": "code",
   "execution_count": 53,
   "id": "dacc3749",
   "metadata": {},
   "outputs": [
    {
     "data": {
      "text/html": [
       "<div>\n",
       "<style scoped>\n",
       "    .dataframe tbody tr th:only-of-type {\n",
       "        vertical-align: middle;\n",
       "    }\n",
       "\n",
       "    .dataframe tbody tr th {\n",
       "        vertical-align: top;\n",
       "    }\n",
       "\n",
       "    .dataframe thead th {\n",
       "        text-align: right;\n",
       "    }\n",
       "</style>\n",
       "<table border=\"1\" class=\"dataframe\">\n",
       "  <thead>\n",
       "    <tr style=\"text-align: right;\">\n",
       "      <th></th>\n",
       "      <th>model</th>\n",
       "      <th>train</th>\n",
       "      <th>test</th>\n",
       "    </tr>\n",
       "  </thead>\n",
       "  <tbody>\n",
       "    <tr>\n",
       "      <th>0</th>\n",
       "      <td>gnb</td>\n",
       "      <td>0.671429</td>\n",
       "      <td>0.666667</td>\n",
       "    </tr>\n",
       "    <tr>\n",
       "      <th>1</th>\n",
       "      <td>lrc</td>\n",
       "      <td>0.714286</td>\n",
       "      <td>0.677778</td>\n",
       "    </tr>\n",
       "    <tr>\n",
       "      <th>2</th>\n",
       "      <td>rfc</td>\n",
       "      <td>0.561905</td>\n",
       "      <td>0.566667</td>\n",
       "    </tr>\n",
       "    <tr>\n",
       "      <th>3</th>\n",
       "      <td>pc</td>\n",
       "      <td>0.638095</td>\n",
       "      <td>0.622222</td>\n",
       "    </tr>\n",
       "  </tbody>\n",
       "</table>\n",
       "</div>"
      ],
      "text/plain": [
       "  model     train      test\n",
       "0   gnb  0.671429  0.666667\n",
       "1   lrc  0.714286  0.677778\n",
       "2   rfc  0.561905  0.566667\n",
       "3    pc  0.638095  0.622222"
      ]
     },
     "execution_count": 53,
     "metadata": {},
     "output_type": "execute_result"
    }
   ],
   "source": [
    "report = pd.DataFrame(columns=[\"model\", \"train\", \"test\"],\n",
    "  data=[gnb_score, lrc_score, rfc_score, pc_score])\n",
    "\n",
    "report.head()"
   ]
  },
  {
   "cell_type": "code",
   "execution_count": 47,
   "id": "ee860850",
   "metadata": {},
   "outputs": [],
   "source": [
    "pickle.dump({\n",
    "  \"model\": gnb,\n",
    "  \"columns\": col \n",
    "}, open('../model/IchigoModel.v1.pckl','wb'))"
   ]
  }
 ],
 "metadata": {
  "kernelspec": {
   "display_name": "Python 3 (ipykernel)",
   "language": "python",
   "name": "python3"
  },
  "language_info": {
   "codemirror_mode": {
    "name": "ipython",
    "version": 3
   },
   "file_extension": ".py",
   "mimetype": "text/x-python",
   "name": "python",
   "nbconvert_exporter": "python",
   "pygments_lexer": "ipython3",
   "version": "3.9.7"
  }
 },
 "nbformat": 4,
 "nbformat_minor": 5
}
