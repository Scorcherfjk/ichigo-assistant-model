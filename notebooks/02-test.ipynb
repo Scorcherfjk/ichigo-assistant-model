{
 "cells": [
  {
   "cell_type": "code",
   "execution_count": 36,
   "id": "cf0e84be",
   "metadata": {},
   "outputs": [
    {
     "name": "stdout",
     "output_type": "stream",
     "text": [
      "['servicios']\n"
     ]
    }
   ],
   "source": [
    "import pickle\n",
    "\n",
    "import sys\n",
    "sys.path.insert(1, '../scripts/transform')\n",
    "\n",
    "from transform import transform\n",
    "\n",
    "IchigoModel = pickle.load(open('../model/IchigoModel.v1.pckl', 'rb'))\n",
    "\n",
    "df = transform(\"cuales son sus servicios\")\n",
    "print(IchigoModel.predict(df))"
   ]
  },
  {
   "cell_type": "code",
   "execution_count": null,
   "id": "73098dc5",
   "metadata": {},
   "outputs": [],
   "source": []
  }
 ],
 "metadata": {
  "kernelspec": {
   "display_name": "Python 3 (ipykernel)",
   "language": "python",
   "name": "python3"
  },
  "language_info": {
   "codemirror_mode": {
    "name": "ipython",
    "version": 3
   },
   "file_extension": ".py",
   "mimetype": "text/x-python",
   "name": "python",
   "nbconvert_exporter": "python",
   "pygments_lexer": "ipython3",
   "version": "3.9.7"
  }
 },
 "nbformat": 4,
 "nbformat_minor": 5
}
