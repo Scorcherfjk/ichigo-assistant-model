{
 "cells": [
  {
   "cell_type": "code",
   "execution_count": 6,
   "id": "cf0e84be",
   "metadata": {},
   "outputs": [],
   "source": [
    "import pickle\n",
    "\n",
    "import sys\n",
    "sys.path.insert(1, '../scripts/')"
   ]
  },
  {
   "cell_type": "code",
   "execution_count": 15,
   "id": "73098dc5",
   "metadata": {},
   "outputs": [
    {
     "name": "stdout",
     "output_type": "stream",
     "text": [
      "['servicios']\n"
     ]
    }
   ],
   "source": [
    "from transform import transform\n",
    "\n",
    "IchigoModel = pickle.load(open('../model/IchigoModel.v1.pckl', 'rb'))[\"model\"]\n",
    "\n",
    "df = transform(\"cuales son sus servicios\")\n",
    "print(IchigoModel.predict(df))"
   ]
  }
 ],
 "metadata": {
  "kernelspec": {
   "display_name": "Python 3 (ipykernel)",
   "language": "python",
   "name": "python3"
  },
  "language_info": {
   "codemirror_mode": {
    "name": "ipython",
    "version": 3
   },
   "file_extension": ".py",
   "mimetype": "text/x-python",
   "name": "python",
   "nbconvert_exporter": "python",
   "pygments_lexer": "ipython3",
   "version": "3.9.7"
  }
 },
 "nbformat": 4,
 "nbformat_minor": 5
}
